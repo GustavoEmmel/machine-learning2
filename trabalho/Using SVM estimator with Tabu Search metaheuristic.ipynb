{
 "cells": [
  {
   "cell_type": "markdown",
   "metadata": {},
   "source": [
    "<h2>Classificador SVM e metaheurística Busca Tabu</h2>\n",
    "\n",
    "Alunos: Everton Thomas, Gustavo Emmel"
   ]
  },
  {
   "cell_type": "markdown",
   "metadata": {},
   "source": [
    "Inicialmente, vamos fazer os imports necessários:"
   ]
  },
  {
   "cell_type": "code",
   "execution_count": 169,
   "metadata": {},
   "outputs": [],
   "source": [
    "import pandas as pd\n",
    "import numpy as np\n",
    "import random\n",
    "import copy\n",
    "import time\n",
    "\n",
    "import matplotlib.pyplot as plt\n",
    "\n",
    "from sklearn.model_selection import train_test_split, StratifiedKFold\n",
    "from sklearn.metrics import accuracy_score\n",
    "from sklearn.svm import SVC\n",
    "from tqdm import tqdm_notebook as tqdm"
   ]
  },
  {
   "cell_type": "markdown",
   "metadata": {},
   "source": [
    "<h2>Carregando dataset</h2>\n",
    "\n",
    "Para testar o algoritmo, utilizamos o <i>dataset</i> [sonnar.all.data](https://www.kaggle.com/ypzhangsam/sonaralldata) que possui dados de varreduras de sonares para identificação de minas.\n",
    "\n",
    "É um problema de classificação binária, onde o objetivo é classificar cada instância como Rocha ou Mina."
   ]
  },
  {
   "cell_type": "code",
   "execution_count": 184,
   "metadata": {},
   "outputs": [
    {
     "data": {
      "text/html": [
       "<div>\n",
       "<style scoped>\n",
       "    .dataframe tbody tr th:only-of-type {\n",
       "        vertical-align: middle;\n",
       "    }\n",
       "\n",
       "    .dataframe tbody tr th {\n",
       "        vertical-align: top;\n",
       "    }\n",
       "\n",
       "    .dataframe thead th {\n",
       "        text-align: right;\n",
       "    }\n",
       "</style>\n",
       "<table border=\"1\" class=\"dataframe\">\n",
       "  <thead>\n",
       "    <tr style=\"text-align: right;\">\n",
       "      <th></th>\n",
       "      <th>0</th>\n",
       "      <th>1</th>\n",
       "      <th>2</th>\n",
       "      <th>3</th>\n",
       "      <th>4</th>\n",
       "      <th>5</th>\n",
       "      <th>6</th>\n",
       "      <th>7</th>\n",
       "      <th>8</th>\n",
       "      <th>9</th>\n",
       "      <th>...</th>\n",
       "      <th>51</th>\n",
       "      <th>52</th>\n",
       "      <th>53</th>\n",
       "      <th>54</th>\n",
       "      <th>55</th>\n",
       "      <th>56</th>\n",
       "      <th>57</th>\n",
       "      <th>58</th>\n",
       "      <th>59</th>\n",
       "      <th>60</th>\n",
       "    </tr>\n",
       "  </thead>\n",
       "  <tbody>\n",
       "    <tr>\n",
       "      <th>0</th>\n",
       "      <td>0.0200</td>\n",
       "      <td>0.0371</td>\n",
       "      <td>0.0428</td>\n",
       "      <td>0.0207</td>\n",
       "      <td>0.0954</td>\n",
       "      <td>0.0986</td>\n",
       "      <td>0.1539</td>\n",
       "      <td>0.1601</td>\n",
       "      <td>0.3109</td>\n",
       "      <td>0.2111</td>\n",
       "      <td>...</td>\n",
       "      <td>0.0027</td>\n",
       "      <td>0.0065</td>\n",
       "      <td>0.0159</td>\n",
       "      <td>0.0072</td>\n",
       "      <td>0.0167</td>\n",
       "      <td>0.0180</td>\n",
       "      <td>0.0084</td>\n",
       "      <td>0.0090</td>\n",
       "      <td>0.0032</td>\n",
       "      <td>R</td>\n",
       "    </tr>\n",
       "    <tr>\n",
       "      <th>1</th>\n",
       "      <td>0.0453</td>\n",
       "      <td>0.0523</td>\n",
       "      <td>0.0843</td>\n",
       "      <td>0.0689</td>\n",
       "      <td>0.1183</td>\n",
       "      <td>0.2583</td>\n",
       "      <td>0.2156</td>\n",
       "      <td>0.3481</td>\n",
       "      <td>0.3337</td>\n",
       "      <td>0.2872</td>\n",
       "      <td>...</td>\n",
       "      <td>0.0084</td>\n",
       "      <td>0.0089</td>\n",
       "      <td>0.0048</td>\n",
       "      <td>0.0094</td>\n",
       "      <td>0.0191</td>\n",
       "      <td>0.0140</td>\n",
       "      <td>0.0049</td>\n",
       "      <td>0.0052</td>\n",
       "      <td>0.0044</td>\n",
       "      <td>R</td>\n",
       "    </tr>\n",
       "    <tr>\n",
       "      <th>2</th>\n",
       "      <td>0.0262</td>\n",
       "      <td>0.0582</td>\n",
       "      <td>0.1099</td>\n",
       "      <td>0.1083</td>\n",
       "      <td>0.0974</td>\n",
       "      <td>0.2280</td>\n",
       "      <td>0.2431</td>\n",
       "      <td>0.3771</td>\n",
       "      <td>0.5598</td>\n",
       "      <td>0.6194</td>\n",
       "      <td>...</td>\n",
       "      <td>0.0232</td>\n",
       "      <td>0.0166</td>\n",
       "      <td>0.0095</td>\n",
       "      <td>0.0180</td>\n",
       "      <td>0.0244</td>\n",
       "      <td>0.0316</td>\n",
       "      <td>0.0164</td>\n",
       "      <td>0.0095</td>\n",
       "      <td>0.0078</td>\n",
       "      <td>R</td>\n",
       "    </tr>\n",
       "    <tr>\n",
       "      <th>3</th>\n",
       "      <td>0.0100</td>\n",
       "      <td>0.0171</td>\n",
       "      <td>0.0623</td>\n",
       "      <td>0.0205</td>\n",
       "      <td>0.0205</td>\n",
       "      <td>0.0368</td>\n",
       "      <td>0.1098</td>\n",
       "      <td>0.1276</td>\n",
       "      <td>0.0598</td>\n",
       "      <td>0.1264</td>\n",
       "      <td>...</td>\n",
       "      <td>0.0121</td>\n",
       "      <td>0.0036</td>\n",
       "      <td>0.0150</td>\n",
       "      <td>0.0085</td>\n",
       "      <td>0.0073</td>\n",
       "      <td>0.0050</td>\n",
       "      <td>0.0044</td>\n",
       "      <td>0.0040</td>\n",
       "      <td>0.0117</td>\n",
       "      <td>R</td>\n",
       "    </tr>\n",
       "    <tr>\n",
       "      <th>4</th>\n",
       "      <td>0.0762</td>\n",
       "      <td>0.0666</td>\n",
       "      <td>0.0481</td>\n",
       "      <td>0.0394</td>\n",
       "      <td>0.0590</td>\n",
       "      <td>0.0649</td>\n",
       "      <td>0.1209</td>\n",
       "      <td>0.2467</td>\n",
       "      <td>0.3564</td>\n",
       "      <td>0.4459</td>\n",
       "      <td>...</td>\n",
       "      <td>0.0031</td>\n",
       "      <td>0.0054</td>\n",
       "      <td>0.0105</td>\n",
       "      <td>0.0110</td>\n",
       "      <td>0.0015</td>\n",
       "      <td>0.0072</td>\n",
       "      <td>0.0048</td>\n",
       "      <td>0.0107</td>\n",
       "      <td>0.0094</td>\n",
       "      <td>R</td>\n",
       "    </tr>\n",
       "  </tbody>\n",
       "</table>\n",
       "<p>5 rows × 61 columns</p>\n",
       "</div>"
      ],
      "text/plain": [
       "       0       1       2       3       4       5       6       7       8   \\\n",
       "0  0.0200  0.0371  0.0428  0.0207  0.0954  0.0986  0.1539  0.1601  0.3109   \n",
       "1  0.0453  0.0523  0.0843  0.0689  0.1183  0.2583  0.2156  0.3481  0.3337   \n",
       "2  0.0262  0.0582  0.1099  0.1083  0.0974  0.2280  0.2431  0.3771  0.5598   \n",
       "3  0.0100  0.0171  0.0623  0.0205  0.0205  0.0368  0.1098  0.1276  0.0598   \n",
       "4  0.0762  0.0666  0.0481  0.0394  0.0590  0.0649  0.1209  0.2467  0.3564   \n",
       "\n",
       "       9  ...      51      52      53      54      55      56      57      58  \\\n",
       "0  0.2111 ...  0.0027  0.0065  0.0159  0.0072  0.0167  0.0180  0.0084  0.0090   \n",
       "1  0.2872 ...  0.0084  0.0089  0.0048  0.0094  0.0191  0.0140  0.0049  0.0052   \n",
       "2  0.6194 ...  0.0232  0.0166  0.0095  0.0180  0.0244  0.0316  0.0164  0.0095   \n",
       "3  0.1264 ...  0.0121  0.0036  0.0150  0.0085  0.0073  0.0050  0.0044  0.0040   \n",
       "4  0.4459 ...  0.0031  0.0054  0.0105  0.0110  0.0015  0.0072  0.0048  0.0107   \n",
       "\n",
       "       59  60  \n",
       "0  0.0032   R  \n",
       "1  0.0044   R  \n",
       "2  0.0078   R  \n",
       "3  0.0117   R  \n",
       "4  0.0094   R  \n",
       "\n",
       "[5 rows x 61 columns]"
      ]
     },
     "execution_count": 184,
     "metadata": {},
     "output_type": "execute_result"
    }
   ],
   "source": [
    "data = pd.read_csv('sonar.all-data.csv', delimiter=',', header=None)\n",
    "\n",
    "data.head()"
   ]
  },
  {
   "cell_type": "markdown",
   "metadata": {},
   "source": [
    "Inicialmente dividiremos o <i>dataset</i> em treino (80%) e teste (20%), e aplicamos um classificador SVM com parâmetros arbitrários e validação cruzada (10 folds).\n",
    "\n",
    "Isso nos permite ter um <i>score</i> inicial para comparar com nossa metaheurístca de seleção de parâmetros.\n",
    "\n",
    "Com o objetivo de organizar o código, criamos uma rotina própria de validação cruzada que retorna o <i>score</i> médio de treino e teste."
   ]
  },
  {
   "cell_type": "code",
   "execution_count": 5,
   "metadata": {},
   "outputs": [],
   "source": [
    "def cross_validate(model, X, y, n_folds):\n",
    "    score = {'fit_score': [], 'test_score': []}\n",
    "    \n",
    "    kf = StratifiedKFold(n_splits=n_folds, shuffle=True, random_state=10)\n",
    "    \n",
    "    for train, test in kf.split(X, y):\n",
    "        X_train, y_train = X[train, :], y[train]\n",
    "        X_test, y_test = X[test, :], y[test]\n",
    "        \n",
    "        model.fit(X_train, y_train)\n",
    "        \n",
    "        pred_train_y = model.predict(X_train)\n",
    "        \n",
    "        pred_test_y = model.predict(X_test)\n",
    "        \n",
    "        score['fit_score'].append(accuracy_score(y_train, pred_train_y))\n",
    "        score['test_score'].append(accuracy_score(y_test, pred_test_y))\n",
    "    return score"
   ]
  },
  {
   "cell_type": "markdown",
   "metadata": {},
   "source": [
    "Aqui a divisão do <i>dataset</i> e aplicação do SVM com C = 10 e gamma = 0.01"
   ]
  },
  {
   "cell_type": "code",
   "execution_count": 6,
   "metadata": {},
   "outputs": [],
   "source": [
    "train, test = train_test_split(data.get_values(), test_size=0.2)\n",
    "\n",
    "model = SVC(C=10.0, gamma=0.01)\n",
    "\n",
    "score = cross_validate(model, train[:,:-1], train[:,-1], n_folds=10)"
   ]
  },
  {
   "cell_type": "markdown",
   "metadata": {},
   "source": [
    "Utilizando os parâmetros arbitrários (C=10 e gamma=0.01) obtivemos os seguintes valores de acurácia:"
   ]
  },
  {
   "cell_type": "code",
   "execution_count": 7,
   "metadata": {},
   "outputs": [
    {
     "data": {
      "text/plain": [
       "'Mean accuracy on fit: 0.809275167785235 / Mean accuracy on test 0.7055147058823529'"
      ]
     },
     "execution_count": 7,
     "metadata": {},
     "output_type": "execute_result"
    }
   ],
   "source": [
    "\"Mean accuracy on fit: {} / Mean accuracy on test {}\".format(np.mean(score['fit_score']), np.mean(score['test_score']))"
   ]
  },
  {
   "cell_type": "markdown",
   "metadata": {},
   "source": [
    "<h2>Implementação metaheurística Tabu List</h2>\n",
    "\n",
    "Como passo inicial, criamos um método para geração de vizinhança, que é um requisito básico da metaheurística Tabu List.\n",
    "\n",
    "Este método, ao receber a posição inicial (current) e o número de vizinhos a ser gerado (n), entrega um <i>array</i> contendo a vizinhança gerada.\n",
    "\n",
    "A estratégia utilizada para geração da respectiva vizinhança passa pela escolha aleatória em três partes:\n",
    "    - Quais dos parâmetros (C e/ou gamma) serão alterados, baseado na posição inicial (current);\n",
    "    - Qual a direção da alteração: positiva ou negativa\n",
    "    - Escolha aleatória do valor dentro de um <i>range</i> pré-estabelecido para o parâmetro que está sendo alterado\n",
    "    \n",
    "\n",
    "O <i>range</i> de variação definido para os parâmetros são:\n",
    "    - C: 1 à 1000\n",
    "    - gamma: 0.01 à 0.1\n",
    "    \n",
    "Além disso, para que os valores encontrados para os parâmetros de um novo vizinho não ficassem muito distante da solução inicial, optamos por utilizar duas funções para delimitar o fator de ajuste:\n",
    "    - C: função raiz\n",
    "    - gamma: função quadrática\n",
    "\n",
    "Os gráficos abaixo demonstram a máxima variação para os parâmetros que podem ser obtidos, com base no <i>range</i> definido para cada um dos parâmetros."
   ]
  },
  {
   "cell_type": "code",
   "execution_count": 187,
   "metadata": {},
   "outputs": [
    {
     "data": {
      "image/png": "[encoded data removed]",
      "text/plain": [
       "<matplotlib.figure.Figure at 0x2bfa7861198>"
      ]
     },
     "metadata": {
      "needs_background": "light"
     },
     "output_type": "display_data"
    }
   ],
   "source": [
    "C = np.arange(1.,31., 1)\n",
    "gamma = np.arange(0.01,1.01,.01)\n",
    "\n",
    "plt.figure(figsize=(15, 3))\n",
    "plt.subplot(121)\n",
    "plt.plot(C, C**(1/2))\n",
    "plt.title('Range {} à {}'.format(min(C), max(C)))\n",
    "plt.xlabel('C')\n",
    "plt.ylabel('Variação aplicada')\n",
    "plt.grid(True)\n",
    "\n",
    "plt.subplot(122)\n",
    "plt.title('Range {} à {}'.format(min(gamma), max(gamma)))\n",
    "plt.xlabel('gamma')\n",
    "plt.ylabel('Variação aplicada')\n",
    "plt.grid(True)\n",
    "plt.plot(gamma, gamma**2)\n",
    "\n",
    "plt.subplots_adjust(top=0.92, bottom=0.08, left=0.10, right=0.95, hspace=0.25,\n",
    "                    wspace=0.35)"
   ]
  },
  {
   "cell_type": "code",
   "execution_count": 171,
   "metadata": {},
   "outputs": [],
   "source": [
    "params_var   = {'C':[1.,30.], 'gamma':[0.01,1.01]}\n",
    "\n",
    "def generate_neighbours(current, n):\n",
    "    \"\"\"\n",
    "    Geração da vizinhança para uma solução.\n",
    "    \n",
    "    Parâmetros\n",
    "        current: solução atual\n",
    "        n......: número de vizinhos que serão gerados\n",
    "    \"\"\"\n",
    "    neighbourhood = []\n",
    "    params = ['C','gamma']\n",
    "    params_func = {'C': (lambda x: x**(1/2)), 'gamma': (lambda x: x**2)}\n",
    "    operations = ['+','-']\n",
    "    \n",
    "    for i in range(n):\n",
    "        \n",
    "        new_par = current.copy()\n",
    "        \n",
    "        random.seed(i)\n",
    "        \n",
    "        while True:\n",
    "        \n",
    "            tabu = ''\n",
    "        \n",
    "            for p in params:\n",
    "\n",
    "                if np.random.randint(0,2) == 1:\n",
    "                    \n",
    "                    random.seed(i * 7)\n",
    "                    \n",
    "                    while True:\n",
    "                        op = random.choice(operations)\n",
    "                        \n",
    "                        #Fator de ajuste\n",
    "                        factor = np.random.uniform(low=params_var[p][0], high=params_var[p][1])\n",
    "\n",
    "                        if op == '-':\n",
    "                            factor = params_func[p](factor) * -1\n",
    "                        else:\n",
    "                            factor = params_func[p](factor)\n",
    "                       \n",
    "                        new_value = new_par[p] + factor\n",
    "\n",
    "                        if new_value >= params_var[p][0] and new_value <= params_var[p][1]:\n",
    "                            new_par[p] = np.round(new_value, 2)\n",
    "                            tabu = tabu + '1' + ('-1' if op == '-' else '1')\n",
    "                            break\n",
    "                            \n",
    "                else:\n",
    "                    tabu = tabu + '00'\n",
    "\n",
    "            if new_par not in neighbourhood:\n",
    "                new_par['tabu'] = tabu\n",
    "                neighbourhood.append(new_par)\n",
    "                break\n",
    "        \n",
    "    return neighbourhood"
   ]
  },
  {
   "cell_type": "markdown",
   "metadata": {},
   "source": [
    "A estrutura de um vizinho é composta pelo parâmetro C e gamma, e seus respectivos valores. Além disso, incluímos uma outra estrutura para indicar qual(is) o(s) parâmetro(s) e direção foram modificados em relação a solução corrente.\n",
    "\n",
    "Essa última será utilizada posteriormente na lista tabu, para indicar movimentos proibitivos.\n",
    "\n",
    "Esse é um exemplo de um vizinho gerado pelo método <i>generate_neighbours</i>:\n",
    "    \n",
    "    {'C':1., 'gamma':0.08, 'tabu': '1011'}\n",
    "    \n",
    "Os atributos C e gamma referem-se aos valores setados para esse vizinho. Já o atributo 'tabu' indica que o parâmetro C foi alterado negativamente (valor menor que o valor de C da solução corrente), e que o <i>gamma</i> também foi alterado, porém positivamente (valor maior que o valor de <i>gamma</i> da solução corrente)"
   ]
  },
  {
   "cell_type": "markdown",
   "metadata": {},
   "source": [
    "Para selecionar a melhor solução na vizinhança gerada, criamos um método chamado <i>find_neighbour</i> que avalia a acurácia para cada uma dessas soluções em um modelo de validação cruzada de 10-folds, utilizando os atributos C e <i>gamma</i> da solução como parâmetros para o modelo.\n",
    "\n",
    "A melhor acurácia encontrada é então selecionada como a melhor solução dentro da vizinhança."
   ]
  },
  {
   "cell_type": "code",
   "execution_count": 9,
   "metadata": {},
   "outputs": [],
   "source": [
    "def find_neighbour(X, y, neighborhood):\n",
    "    \"\"\"\n",
    "    Encontra o melhor entre a vizinhança, baseado na acurácia\n",
    "    \n",
    "    Parâmetros\n",
    "        X...........: Valores do dataset\n",
    "        y...........: Labels do dataset\n",
    "        neighborhood: vizinhança que será avaliada\n",
    "    \"\"\"\n",
    "    folds = 10\n",
    "    \n",
    "    best_neighbour = None\n",
    "    \n",
    "    for neighbor in neighborhood:\n",
    "        model = SVC(C = neighbor['C'], gamma=neighbor['gamma'])\n",
    "        neighbor_score = cross_validate(model, X, y, n_folds=folds)\n",
    "        \n",
    "        if best_neighbour == None or best_neighbour_score < np.mean(neighbor_score['test_score']):\n",
    "            best_neighbour = neighbor\n",
    "            best_neighbour_score = np.mean(neighbor_score['test_score'])\n",
    "\n",
    "    return best_neighbour, best_neighbour_score"
   ]
  },
  {
   "cell_type": "markdown",
   "metadata": {},
   "source": [
    "<h2>A Lista Tabu</h2>\n",
    "\n",
    "Agora vamos para a característica que dá nome à esta metaheurística: a <b>lista tabu</b>.\n",
    "\n",
    "A lista tabu é composta por <b>movimentos</b> que não são permitidos no espaço de busca. Repare que não falamos de valores não permitidos, mas sim de movimentos não permitidos. No presente caso, avaliamos que um movimento será caracterizado pelos parâmetros alterados na solução avaliada em relação a solução corrente, e a direção dessa alteração: negativa ou positiva.\n",
    "\n",
    "Supondo o seguinte cenário:\n",
    "    - Solução corrente: {'C': 10., 'gamma':0.05, 'tabu': '1000'}\n",
    "\n",
    "Caso o movimento '1000', esteja presente na lista tabu, esta solução não poderá ser adotada, mesmo que possua uma acurácia superior. Essa abordagem força o algoritmo a tentar encontrar outras soluções, permitindo diversificar a procura no espaço de busca.\n",
    "\n",
    "Outro mecanismo que adotamos para gerenciamento da lista tabu, é um contador de iterações. Cada movimento presente na lista recebe um valor <i>n</i> ao ser alocado - neste caso 3, e a cada consulta na lista tabu, esse contador é decrementado (<i>n</i> - 1). Quando um movimento possuir o valor 0 (zero) neste contador, ele é imediatamente retirado na lista tabu. Desta forma, permitimos uma diversificação ainda maior na busca.\n",
    "\n",
    "Este é um exemplo da lista tabu e de seus itens:\n",
    "  \n",
    "    [\n",
    "        {'tabu': '0000', 'cnt': 1}, \n",
    "        {'tabu': '111-1', 'cnt': 2}, \n",
    "        {'tabu': '1100', 'cnt': 3}\n",
    "    ]\n",
    "\n",
    "O exemplo anterior demonstra a existência de 3 movimentos diferente na lista tabu, sendo que o primeiro já está na lista a 3 iterações e na próxima será removido. Isso permite que, caso o algoritmo encontre uma solução com <i>score</i> superior, mas com o mesmo movimento ('0000'), essa solução possa ser alocada a lista tabu novamente."
   ]
  },
  {
   "cell_type": "code",
   "execution_count": 75,
   "metadata": {},
   "outputs": [],
   "source": [
    "def check_tabu_list(solution, tabu_list):\n",
    "    cnt = 3\n",
    "    \n",
    "    for x in tabu_list:\n",
    "        x['cnt'] = x['cnt'] - 1\n",
    "        if x['cnt'] <= 0:\n",
    "            tabu_list.remove(x)\n",
    "    \n",
    "    tabu_item = [i for i in tabu_list if i['tabu'] == solution['tabu']]\n",
    "    \n",
    "    if not tabu_item:\n",
    "        new_tabu = { 'tabu': solution['tabu'], 'cnt': cnt}\n",
    "        tabu_list.append(new_tabu)\n",
    "        return True\n",
    "    \n",
    "    return False"
   ]
  },
  {
   "cell_type": "markdown",
   "metadata": {},
   "source": [
    "O método <i>check_tabu_list</i> verifica e atualiza a lista tabu.\n",
    "\n",
    "Inicialmente, este método subtrai 1 (um) de cada elemento presente na lista, atualizando o contador de iterações. Aqueles que após essa atualização possuirem o valor 0 (zero) no contador são retirados da lista.\n",
    "\n",
    "O próximo passo verifica se o movimento que determinou a solução já está presente na lista tabu. Caso esteja, a solução é rejeitada ou, se a solução não foi encontrada, então é inserida."
   ]
  },
  {
   "cell_type": "markdown",
   "metadata": {},
   "source": [
    "<h2>Testando metaheurística Busca Tabu</h2>\n",
    "\n",
    "Inicialmente informamos ao algoritmo nossa configuração de ponto de partida. Para isso, escolhemos arbitrariamente os valores:\n",
    "\n",
    "    C: 1.0, gamma: 0.01\n",
    "    \n",
    "Aplicamos esses parâmetros para o classificador SVM a aferimos o <i>score</i> obtido."
   ]
  },
  {
   "cell_type": "code",
   "execution_count": 173,
   "metadata": {},
   "outputs": [
    {
     "name": "stdout",
     "output_type": "stream",
     "text": [
      "Current params {'C': 1.0, 'gamma': 0.01, 'tabu': '0000'}\n",
      "FIT >> Mean accuracy train set 0.5421744966442953 / Mean accuracy test set 0.5426470588235294\n",
      "TEST >> Accuracy test set 0.5\n"
     ]
    }
   ],
   "source": [
    "current = {'C': 1.0, 'gamma': 0.01, 'tabu': '0000'}\n",
    "\n",
    "model = SVC(C = current['C'], gamma=current['gamma'])\n",
    "\n",
    "current_score = cross_validate(model, train[:,:-1], train[:,-1], n_folds=10)\n",
    "\n",
    "print(\"Current params {}\".format(current))\n",
    "\n",
    "print(\"FIT >> Mean accuracy train set {} / Mean accuracy test set {}\".format(np.mean(current_score['fit_score']), np.mean(current_score['test_score'])))\n",
    "\n",
    "predicted = model.predict(test[:,:-1])\n",
    "\n",
    "accuracy = accuracy_score(test[:,-1], predicted)\n",
    "\n",
    "print(\"TEST >> Accuracy test set {}\".format(accuracy))"
   ]
  },
  {
   "cell_type": "markdown",
   "metadata": {},
   "source": [
    "Percebemos que os valores para C e <i>gamma</i> que escolhemos não foram boas opções, já que nos dados de validação do modelo obtivemos acurácia de 0.5.\n",
    "\n",
    "Então vamos ver se nossa metaheurística consegue melhorar isso. Vamos assumir que esta configuração é nossa melhor solução até o momento, e vamos adicioná-la na <b>lista tabu</b>."
   ]
  },
  {
   "cell_type": "code",
   "execution_count": 174,
   "metadata": {},
   "outputs": [],
   "source": [
    "best_solution = current\n",
    "best_score = np.mean(current_score['test_score'])\n",
    "\n",
    "tabu_list = list()\n",
    "\n",
    "_ = check_tabu_list(best_solution, tabu_list)"
   ]
  },
  {
   "cell_type": "markdown",
   "metadata": {},
   "source": [
    "Para nosso teste utilizaremos 30 (trinta) iterações para busca da melhor solução e a cada iteração uma vizinhança de 25 (vinte e cinco) soluções será gerada para avaliação."
   ]
  },
  {
   "cell_type": "code",
   "execution_count": 175,
   "metadata": {},
   "outputs": [
    {
     "data": {
      "application/vnd.jupyter.widget-view+json": {
       "model_id": "41e7d5949ee540f891040950e1668f5b",
       "version_major": 2,
       "version_minor": 0
      },
      "text/html": [
       "<p>Failed to display Jupyter Widget of type <code>HBox</code>.</p>\n",
       "<p>\n",
       "  If you're reading this message in the Jupyter Notebook or JupyterLab Notebook, it may mean\n",
       "  that the widgets JavaScript is still loading. If this message persists, it\n",
       "  likely means that the widgets JavaScript library is either not installed or\n",
       "  not enabled. See the <a href=\"https://ipywidgets.readthedocs.io/en/stable/user_install.html\">Jupyter\n",
       "  Widgets Documentation</a> for setup instructions.\n",
       "</p>\n",
       "<p>\n",
       "  If you're reading this message in another frontend (for example, a static\n",
       "  rendering on GitHub or <a href=\"https://nbviewer.jupyter.org/\">NBViewer</a>),\n",
       "  it may mean that your frontend doesn't currently support widgets.\n",
       "</p>\n"
      ],
      "text/plain": [
       "HBox(children=(IntProgress(value=0, max=30), HTML(value='')))"
      ]
     },
     "metadata": {},
     "output_type": "display_data"
    },
    {
     "name": "stdout",
     "output_type": "stream",
     "text": [
      "\n",
      "--- 32.09929299354553 seconds ---\n",
      "Best solution: {'C': 12.51, 'gamma': 0.36, 'tabu': '0000'} / Best score: 0.8797794117647058\n"
     ]
    }
   ],
   "source": [
    "start_time = time.time()\n",
    "\n",
    "iterator = 30\n",
    "n_neighbors = 25\n",
    "\n",
    "with tqdm(total=iterator) as pbar:\n",
    "    \n",
    "    for i in range(0,iterator):\n",
    "        neighbourhood = generate_neighbours(current,n_neighbors)\n",
    "        \n",
    "        best_neighbour, best_neighbour_score = find_neighbour(train[:,:-1], train[:,-1], neighbourhood)\n",
    "\n",
    "        if best_neighbour_score >= best_score and check_tabu_list(best_neighbour, tabu_list):\n",
    "            current = best_neighbour\n",
    "            best_solution = best_neighbour\n",
    "            best_score = best_neighbour_score\n",
    "        \n",
    "        current = best_neighbour\n",
    "\n",
    "        pbar.update(1)\n",
    "\n",
    "end_time = time.time()\n",
    "print(\"--- %s seconds ---\" % (end_time - start_time))\n",
    "print('Best solution: {} / Best score: {}'.format(best_solution, best_score))"
   ]
  },
  {
   "cell_type": "markdown",
   "metadata": {},
   "source": [
    "Agora vamos aplicar a melhor solução encontrada por nossa metaheurística sobre os dados de validação, ou seja, os 20% que reservamos do dataset inicial."
   ]
  },
  {
   "cell_type": "code",
   "execution_count": 176,
   "metadata": {},
   "outputs": [
    {
     "name": "stdout",
     "output_type": "stream",
     "text": [
      "FIT >> Mean accuracy train set 1.0 / Mean accuracy test set 0.8797794117647058\n",
      "TEST >> Accuracy test set 0.9285714285714286\n"
     ]
    }
   ],
   "source": [
    "model = SVC(C = best_solution['C'], gamma=best_solution['gamma'])\n",
    "\n",
    "current_score = cross_validate(model, train[:,:-1], train[:,-1], n_folds=10)\n",
    "\n",
    "print(\"FIT >> Mean accuracy train set {} / Mean accuracy test set {}\".format(np.mean(current_score['fit_score']), np.mean(current_score['test_score'])))\n",
    "\n",
    "predicted = model.predict(test[:,:-1])\n",
    "\n",
    "accuracy = accuracy_score(test[:,-1], predicted)\n",
    "\n",
    "print(\"TEST >> Accuracy test set {}\".format(accuracy))"
   ]
  },
  {
   "cell_type": "markdown",
   "metadata": {},
   "source": [
    "<h2>Resultado</h2>\n",
    "\n",
    "A metaheurística Busca Tabu aqui implementada, para o presente caso, possibilitou encontrar um <i>set</i> de parâmetros para um classificador SVM que possibilitou alcançar uma acurácia de ~0.92, com um tempo de execução de ~32.0 segundos em um Notebook i7 16GB RAM."
   ]
  },
  {
   "cell_type": "markdown",
   "metadata": {},
   "source": [
    "<h2>Comparativo com Grid Search</h2>\n",
    "\n",
    "Para efeitos de comparação, vamos executar uma busca exaustiva utilizando GridSearch, na implementação do SciKit.\n",
    "\n",
    "Definimos um método para o qual passamos os dados, os labels e o número de <i>folds</i> e este retorna a melhor configuração encontrada. Manteremos a mesma configuração utilizada em nosso teste com a Busca Tabu, ou seja, o mesmos parâmetros do SVM, o mesmo <i>range</i> de valores para ambos e 10 <i>folds</i>."
   ]
  },
  {
   "cell_type": "code",
   "execution_count": 178,
   "metadata": {},
   "outputs": [],
   "source": [
    "#Teste com GridSearch\n",
    "from sklearn.model_selection import GridSearchCV\n",
    "\n",
    "def svc_param_selection(X, y, nfolds):\n",
    "    Cs = np.arange(1,30, 1)\n",
    "    gammas = np.arange(0.01, 1., 0.01)\n",
    "    param_grid = {'C': Cs, 'gamma' : gammas}\n",
    "    grid_search = GridSearchCV(SVC(kernel='rbf'), param_grid, cv=nfolds)\n",
    "    grid_search.fit(X, y)\n",
    "    grid_search.best_params_\n",
    "    return grid_search.best_params_"
   ]
  },
  {
   "cell_type": "code",
   "execution_count": 180,
   "metadata": {},
   "outputs": [
    {
     "name": "stdout",
     "output_type": "stream",
     "text": [
      "--- 150.2852590084076 seconds ---\n",
      "Best solution GridSearch: {'C': 13, 'gamma': 0.33}\n"
     ]
    }
   ],
   "source": [
    "start_time = time.time()\n",
    "param_sel = svc_param_selection(train[:,:-1], train[:,-1], 10)\n",
    "end_time = time.time()\n",
    "\n",
    "print(\"--- %s seconds ---\" % (end_time - start_time))\n",
    "print('Best solution GridSearch: {}'.format(param_sel))"
   ]
  },
  {
   "cell_type": "markdown",
   "metadata": {},
   "source": [
    "Após testar exaustivamente todas as possibilidades, o método GridSearch encontrou a configuração (C = 13 e gamma = 0.33). \n",
    "\n",
    "Agora aplicamos os parâmetros encontrados sobre os dados de validação:"
   ]
  },
  {
   "cell_type": "code",
   "execution_count": 181,
   "metadata": {},
   "outputs": [
    {
     "name": "stdout",
     "output_type": "stream",
     "text": [
      "Current params {'C': 13, 'gamma': 0.33}\n",
      "FIT >> Mean accuracy train set 1.0 / Mean accuracy test set 0.8735294117647058\n",
      "TEST >> Accuracy test set 0.9285714285714286\n"
     ]
    }
   ],
   "source": [
    "model = SVC(C = param_sel['C'], gamma=param_sel['gamma'])\n",
    "\n",
    "current_score = cross_validate(model, train[:,:-1], train[:,-1], n_folds=10)\n",
    "\n",
    "print(\"Current params {}\".format(param_sel))\n",
    "\n",
    "print(\"FIT >> Mean accuracy train set {} / Mean accuracy test set {}\".format(np.mean(current_score['fit_score']), np.mean(current_score['test_score'])))\n",
    "\n",
    "predicted = model.predict(test[:,:-1])\n",
    "\n",
    "accuracy = accuracy_score(test[:,-1], predicted)\n",
    "\n",
    "print(\"TEST >> Accuracy test set {}\".format(accuracy))"
   ]
  },
  {
   "cell_type": "markdown",
   "metadata": {},
   "source": [
    "Apesar da acurácia sobre os dados de validação ser praticamente a mesma entre GridSearch e Busca Tabu, <b>o primeiro dispendeu 5x mais tempo (~150.28 segundos)</b> quando comparado ao cenário que utilizou somente a metaheurística, para a mesma configuração de computador (i7 16GB RAM)."
   ]
  },
  {
   "cell_type": "markdown",
   "metadata": {},
   "source": [
    "<h2>Conclusão</h2>\n",
    "\n",
    "Concluímos que, para o cenário atual, a utilização da metaheurística Busca Tabu superou o uso do método GridSearch da biblioteca SciKit, não pela acurácia, mas sim pelo tempo necessário para busca da melhor configuração."
   ]
  }
 ],
 "metadata": {
  "kernelspec": {
   "display_name": "Python 3",
   "language": "python",
   "name": "python3"
  },
  "language_info": {
   "codemirror_mode": {
    "name": "ipython",
    "version": 3
   },
   "file_extension": ".py",
   "mimetype": "text/x-python",
   "name": "python",
   "nbconvert_exporter": "python",
   "pygments_lexer": "ipython3",
   "version": "3.6.4"
  }
 },
 "nbformat": 4,
 "nbformat_minor": 2
}
