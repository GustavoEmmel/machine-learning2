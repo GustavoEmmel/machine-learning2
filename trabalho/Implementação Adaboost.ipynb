{
 "cells": [
  {
   "cell_type": "markdown",
   "metadata": {},
   "source": [
    "<h2>Adaboost</h2>\n",
    "\n",
    "Alunos: Everton Thomas, Gustavo Emmel"
   ]
  },
  {
   "cell_type": "markdown",
   "metadata": {},
   "source": [
    "<h2>Boosting</h2>\n",
    "\n",
    "<b><i>Boosting</i></b> é uma abordagem utilizada para prover uma melhor performance para algoritmos clássicos de classificação e regressão. Apesar de poder ser aplicada sobre diversos algoritmos, a abordagem de <i>boosting</i> é comumente utilizada com algoritmos modelados no formato de árvore (árvores de decisão).\n",
    "\n",
    "Em suma, a técnica de <b><i>boosting</i></b> consiste em um conjunto (<i>ensemble</i>) de algoritmos ditos fracos (com performance ligeiramente superior a 50%) que quando combinados, permitem por vezes performances superiores a um aloritmo dito \"forte\", como SVM ou RNA.\n",
    "\n",
    "<h2>Algoritmo AdaBoost</h2>\n",
    "\n",
    "O princípio por trás do <b>AdaBoost</b> é utilizar diversos algoritmos com poder de predição ligeiramente superior à uma escolha aleatória, executados repetidamente sobre o conjunto de dados. A cada iteração, cada instância recebe um peso de acordo com o resultado da predição anterior: o peso é incrementado caso o último algoritmo tenha classificado a instância incorretamente e decrementado caso contrário.\n",
    "\n",
    "Portanto, as instâncias que foram anteriormente classificadas incorretamente recebem maior atenção quando o próximo algoritmo da iteração for executado. Ao final, o algoritmo soma as predições ponderadas de cada iteração, selecionado a classificação correta para as instâncias através de voto majoritário.\n",
    "\n",
    "O algoritmo AdaBoost é apresentado a seguir:\n",
    "\n",
    "![image.png](attachment:image.png)"
   ]
  },
  {
   "cell_type": "markdown",
   "metadata": {},
   "source": [
    "<h2>Implementação do AdaBoost em Python</h2>\n",
    "\n",
    "Vamos implementar o algoritmo em uma classe a parte, permitindo uma melhor separação do código e posterior utilização do AdaBoost na fase de validação cruzada. Para isso, criamos uma classe nos moldes dos classificadores da biblioteca <b>SciKit Learn</b>, ou seja, com os métodos <b>fit</b> e <b>predict</b>."
   ]
  },
  {
   "cell_type": "code",
   "execution_count": 1,
   "metadata": {},
   "outputs": [],
   "source": [
    "import numpy as np\n",
    "\n",
    "class Adaboost:\n",
    "    \n",
    "    def __init__(self, T):\n",
    "        \"\"\"\n",
    "        Implementação de boosting para classificadores\n",
    "        \n",
    "        Parâmetros:\n",
    "            \n",
    "            T = Array de classificadores\n",
    "        \"\"\"\n",
    "        self.T = T\n",
    "        self.alphas = None\n",
    "    \n",
    "    def fit(self, X, y):\n",
    "        \"\"\"\n",
    "        Treina os modelos\n",
    "        \n",
    "        Parâmetros:\n",
    "            \n",
    "            X = Dados de treino\n",
    "            \n",
    "            y = Labels de treino\n",
    "            \n",
    "        Retorno:\n",
    "        \n",
    "            predicted = Resultado da predição (y)\n",
    "        \"\"\"\n",
    "        \n",
    "        #inicializa os pesos\n",
    "        weights = np.ones(len(X)) / float(len(X))\n",
    "        \n",
    "        i = 0\n",
    "        \n",
    "        alphas = []\n",
    "        fit_predicted = np.zeros(len(y))\n",
    "        \n",
    "        #para cada classificador\n",
    "        for clf in self.T:\n",
    "            \n",
    "            i += 1\n",
    "            \n",
    "            clf.fit(X, y, sample_weight=weights)\n",
    "            \n",
    "            predicted = clf.predict(X)\n",
    "            \n",
    "            miss = [int(d) for d in (predicted != y)]\n",
    "            err   = np.dot(weights, miss)/np.sum(weights)\n",
    "            alpha = 0.5 * np.log((1 - err)/err)\n",
    "            \n",
    "            #guarda o alpha para o classificador\n",
    "            alphas.append(alpha)\n",
    "            \n",
    "            #ajusta os pesos\n",
    "            weights = np.multiply(weights, np.exp([alpha * float(x) for x in miss]))/float(weights.sum())\n",
    "            \n",
    "            accuracy = sum([int(d) for d in (predicted == y)]) / len(predicted)\n",
    "            \n",
    "            fit_predicted = [sum(x) for x in zip(fit_predicted, [x * alpha for x in predicted])]\n",
    "        \n",
    "        self.alphas = alphas\n",
    "        \n",
    "        return np.sign(fit_predicted)\n",
    "        \n",
    "    def predict(self, X):#, y):\n",
    "        \"\"\"\n",
    "        Faz a predição sobre um conjunto de dados\n",
    "        \n",
    "        Parâmetros:\n",
    "        \n",
    "            X = Dados a serem preditos\n",
    "            \n",
    "        Retorno:\n",
    "        \n",
    "            predicted = Resultado da predição (y)\n",
    "        \"\"\"\n",
    "        predicted = np.zeros(len(X))\n",
    "        \n",
    "        for model, alpha in zip(self.T, self.alphas):\n",
    "            \n",
    "            pred = model.predict(X)\n",
    "            \n",
    "            #accuracy = sum([int(d) for d in (pred == y)]) / len(pred)\n",
    "            \n",
    "            #print(accuracy)\n",
    "            \n",
    "            predicted = [sum(x) for x in zip(predicted, [x * alpha for x in pred])]\n",
    "            \n",
    "        predicted = np.sign(predicted)\n",
    "        \n",
    "        return predicted"
   ]
  },
  {
   "cell_type": "markdown",
   "metadata": {},
   "source": [
    "<h2>Explicando o algoritmo</h2>\n",
    "\n",
    "Inicialmente a classe <b>Adaboost</b> deve ser inicializada com uma lista de algoritmos que serão utilizados durante o processo.\n",
    "\n",
    "```\n",
    "clfs =[]\n",
    "clfs.append(DecisionTreeClassifier(criterion='entropy', max_depth=1))\n",
    "clfs.append(DecisionTreeClassifier(criterion='entropy', max_depth=1))\n",
    "clfs.append(DecisionTreeClassifier(criterion='entropy', max_depth=1))\n",
    "\n",
    "model = Adaboost(clfs)\n",
    "```\n",
    "\n",
    "A quantidade de algoritmos presentes nessa lista é que irá determinar quantas vezes ocorrerá o processo <i>predição -> ajuste de peso</i>. No exemplo imediatamente anterior, são adicionados três classificadores do tipo Árvore de Decisão com profundidade 1, também conhecidas como Decision Stump. Isso significa que serão realizadas 3 iterações, com ajuste de peso das instâncias entre cada iteração.\n",
    "\n",
    "```\n",
    "#para cada classificador\n",
    "for clf in self.T:\n",
    "            \n",
    "    clf.fit(X, y, sample_weight=weights)\n",
    "            \n",
    "    predicted = clf.predict(X)\n",
    "            \n",
    "    miss = [int(d) for d in (predicted != y)]\n",
    "    err   = np.dot(weights, miss)/np.sum(weights)\n",
    "    alpha = 0.5 * np.log((1 - err)/err)\n",
    "            \n",
    "    #ajusta os pesos\n",
    "    weights = np.multiply(weights, np.exp([alpha * float(x) for x in miss]))/float(weights.sum())\n",
    "            \n",
    "    fit_predicted = [sum(x) for x in zip(fit_predicted, [x * alpha for x in predicted])]\n",
    "```\n",
    "\n",
    "De forma resumida, em cada iteração é realizado o processo de treinamento do modelo em questão. Após o treinamento, é calculado a taxa de erro (<i>err</i>) que é utilizada para calcular a taxa de atualização dos pesos (<i>alpha</i>).\n",
    "\n",
    "Para instâncias preditas corretamente, o peso desta é decrementado com base no <i>alpha</i> calculado. O contrário ocorre com instâncias preditas incorretamente, as quais terão maior prioridade na próxima iteração.\n",
    "\n",
    "Ao final, as predições geradas por todos os classificadores são somadas e a classe para cada instância é decidida pelo voto majoritário."
   ]
  },
  {
   "cell_type": "markdown",
   "metadata": {},
   "source": [
    "<h2>Utilizando o algoritmo AdaBoost</h2>\n",
    "\n",
    "Para testar o algoritmo, utilizamos o <i>dataset</i> [sonnar.all.data](https://www.kaggle.com/ypzhangsam/sonaralldata) que possui dados de varreduras de sonares para identificação de minas.\n",
    "\n",
    "É um problema de classificação binária, onde o objetivo é classificar cada instância como Rocha ou Mina."
   ]
  },
  {
   "cell_type": "code",
   "execution_count": 2,
   "metadata": {},
   "outputs": [
    {
     "data": {
      "text/html": [
       "<div>\n",
       "<style scoped>\n",
       "    .dataframe tbody tr th:only-of-type {\n",
       "        vertical-align: middle;\n",
       "    }\n",
       "\n",
       "    .dataframe tbody tr th {\n",
       "        vertical-align: top;\n",
       "    }\n",
       "\n",
       "    .dataframe thead th {\n",
       "        text-align: right;\n",
       "    }\n",
       "</style>\n",
       "<table border=\"1\" class=\"dataframe\">\n",
       "  <thead>\n",
       "    <tr style=\"text-align: right;\">\n",
       "      <th></th>\n",
       "      <th>0</th>\n",
       "      <th>1</th>\n",
       "      <th>2</th>\n",
       "      <th>3</th>\n",
       "      <th>4</th>\n",
       "      <th>5</th>\n",
       "      <th>6</th>\n",
       "      <th>7</th>\n",
       "      <th>8</th>\n",
       "      <th>9</th>\n",
       "      <th>...</th>\n",
       "      <th>51</th>\n",
       "      <th>52</th>\n",
       "      <th>53</th>\n",
       "      <th>54</th>\n",
       "      <th>55</th>\n",
       "      <th>56</th>\n",
       "      <th>57</th>\n",
       "      <th>58</th>\n",
       "      <th>59</th>\n",
       "      <th>60</th>\n",
       "    </tr>\n",
       "  </thead>\n",
       "  <tbody>\n",
       "    <tr>\n",
       "      <th>0</th>\n",
       "      <td>0.0200</td>\n",
       "      <td>0.0371</td>\n",
       "      <td>0.0428</td>\n",
       "      <td>0.0207</td>\n",
       "      <td>0.0954</td>\n",
       "      <td>0.0986</td>\n",
       "      <td>0.1539</td>\n",
       "      <td>0.1601</td>\n",
       "      <td>0.3109</td>\n",
       "      <td>0.2111</td>\n",
       "      <td>...</td>\n",
       "      <td>0.0027</td>\n",
       "      <td>0.0065</td>\n",
       "      <td>0.0159</td>\n",
       "      <td>0.0072</td>\n",
       "      <td>0.0167</td>\n",
       "      <td>0.0180</td>\n",
       "      <td>0.0084</td>\n",
       "      <td>0.0090</td>\n",
       "      <td>0.0032</td>\n",
       "      <td>R</td>\n",
       "    </tr>\n",
       "    <tr>\n",
       "      <th>1</th>\n",
       "      <td>0.0453</td>\n",
       "      <td>0.0523</td>\n",
       "      <td>0.0843</td>\n",
       "      <td>0.0689</td>\n",
       "      <td>0.1183</td>\n",
       "      <td>0.2583</td>\n",
       "      <td>0.2156</td>\n",
       "      <td>0.3481</td>\n",
       "      <td>0.3337</td>\n",
       "      <td>0.2872</td>\n",
       "      <td>...</td>\n",
       "      <td>0.0084</td>\n",
       "      <td>0.0089</td>\n",
       "      <td>0.0048</td>\n",
       "      <td>0.0094</td>\n",
       "      <td>0.0191</td>\n",
       "      <td>0.0140</td>\n",
       "      <td>0.0049</td>\n",
       "      <td>0.0052</td>\n",
       "      <td>0.0044</td>\n",
       "      <td>R</td>\n",
       "    </tr>\n",
       "    <tr>\n",
       "      <th>2</th>\n",
       "      <td>0.0262</td>\n",
       "      <td>0.0582</td>\n",
       "      <td>0.1099</td>\n",
       "      <td>0.1083</td>\n",
       "      <td>0.0974</td>\n",
       "      <td>0.2280</td>\n",
       "      <td>0.2431</td>\n",
       "      <td>0.3771</td>\n",
       "      <td>0.5598</td>\n",
       "      <td>0.6194</td>\n",
       "      <td>...</td>\n",
       "      <td>0.0232</td>\n",
       "      <td>0.0166</td>\n",
       "      <td>0.0095</td>\n",
       "      <td>0.0180</td>\n",
       "      <td>0.0244</td>\n",
       "      <td>0.0316</td>\n",
       "      <td>0.0164</td>\n",
       "      <td>0.0095</td>\n",
       "      <td>0.0078</td>\n",
       "      <td>R</td>\n",
       "    </tr>\n",
       "    <tr>\n",
       "      <th>3</th>\n",
       "      <td>0.0100</td>\n",
       "      <td>0.0171</td>\n",
       "      <td>0.0623</td>\n",
       "      <td>0.0205</td>\n",
       "      <td>0.0205</td>\n",
       "      <td>0.0368</td>\n",
       "      <td>0.1098</td>\n",
       "      <td>0.1276</td>\n",
       "      <td>0.0598</td>\n",
       "      <td>0.1264</td>\n",
       "      <td>...</td>\n",
       "      <td>0.0121</td>\n",
       "      <td>0.0036</td>\n",
       "      <td>0.0150</td>\n",
       "      <td>0.0085</td>\n",
       "      <td>0.0073</td>\n",
       "      <td>0.0050</td>\n",
       "      <td>0.0044</td>\n",
       "      <td>0.0040</td>\n",
       "      <td>0.0117</td>\n",
       "      <td>R</td>\n",
       "    </tr>\n",
       "    <tr>\n",
       "      <th>4</th>\n",
       "      <td>0.0762</td>\n",
       "      <td>0.0666</td>\n",
       "      <td>0.0481</td>\n",
       "      <td>0.0394</td>\n",
       "      <td>0.0590</td>\n",
       "      <td>0.0649</td>\n",
       "      <td>0.1209</td>\n",
       "      <td>0.2467</td>\n",
       "      <td>0.3564</td>\n",
       "      <td>0.4459</td>\n",
       "      <td>...</td>\n",
       "      <td>0.0031</td>\n",
       "      <td>0.0054</td>\n",
       "      <td>0.0105</td>\n",
       "      <td>0.0110</td>\n",
       "      <td>0.0015</td>\n",
       "      <td>0.0072</td>\n",
       "      <td>0.0048</td>\n",
       "      <td>0.0107</td>\n",
       "      <td>0.0094</td>\n",
       "      <td>R</td>\n",
       "    </tr>\n",
       "  </tbody>\n",
       "</table>\n",
       "<p>5 rows × 61 columns</p>\n",
       "</div>"
      ],
      "text/plain": [
       "       0       1       2       3       4       5       6       7       8   \\\n",
       "0  0.0200  0.0371  0.0428  0.0207  0.0954  0.0986  0.1539  0.1601  0.3109   \n",
       "1  0.0453  0.0523  0.0843  0.0689  0.1183  0.2583  0.2156  0.3481  0.3337   \n",
       "2  0.0262  0.0582  0.1099  0.1083  0.0974  0.2280  0.2431  0.3771  0.5598   \n",
       "3  0.0100  0.0171  0.0623  0.0205  0.0205  0.0368  0.1098  0.1276  0.0598   \n",
       "4  0.0762  0.0666  0.0481  0.0394  0.0590  0.0649  0.1209  0.2467  0.3564   \n",
       "\n",
       "       9  ...      51      52      53      54      55      56      57      58  \\\n",
       "0  0.2111 ...  0.0027  0.0065  0.0159  0.0072  0.0167  0.0180  0.0084  0.0090   \n",
       "1  0.2872 ...  0.0084  0.0089  0.0048  0.0094  0.0191  0.0140  0.0049  0.0052   \n",
       "2  0.6194 ...  0.0232  0.0166  0.0095  0.0180  0.0244  0.0316  0.0164  0.0095   \n",
       "3  0.1264 ...  0.0121  0.0036  0.0150  0.0085  0.0073  0.0050  0.0044  0.0040   \n",
       "4  0.4459 ...  0.0031  0.0054  0.0105  0.0110  0.0015  0.0072  0.0048  0.0107   \n",
       "\n",
       "       59  60  \n",
       "0  0.0032   R  \n",
       "1  0.0044   R  \n",
       "2  0.0078   R  \n",
       "3  0.0117   R  \n",
       "4  0.0094   R  \n",
       "\n",
       "[5 rows x 61 columns]"
      ]
     },
     "execution_count": 2,
     "metadata": {},
     "output_type": "execute_result"
    }
   ],
   "source": [
    "import pandas as pd\n",
    "\n",
    "df = pd.read_csv('sonar.all-data.csv', delimiter=',', header=None)\n",
    "\n",
    "df.head()"
   ]
  },
  {
   "cell_type": "markdown",
   "metadata": {},
   "source": [
    "Para facilitar o processo de aplicação do Adaboost, alteramos as classes das instâncias trocando-as:\n",
    "\n",
    "Classe R -> -1\n",
    "Classe M ->  1"
   ]
  },
  {
   "cell_type": "code",
   "execution_count": 3,
   "metadata": {},
   "outputs": [
    {
     "data": {
      "text/plain": [
       "array([-1,  1], dtype=int64)"
      ]
     },
     "execution_count": 3,
     "metadata": {},
     "output_type": "execute_result"
    }
   ],
   "source": [
    "df.iloc[:,-1] = [-1 if x == 'R' else 1 for x in df.iloc[:, -1]]\n",
    "\n",
    "df.iloc[:,-1].unique()"
   ]
  },
  {
   "cell_type": "markdown",
   "metadata": {},
   "source": [
    "Agora que o dataframe está carregado e com os labels ajustados, separamos 20% dos dados para teste e utilizamos 80% para treinamento:"
   ]
  },
  {
   "cell_type": "code",
   "execution_count": 4,
   "metadata": {},
   "outputs": [],
   "source": [
    "from sklearn.model_selection  import train_test_split, StratifiedKFold\n",
    "\n",
    "random_state = 1\n",
    "\n",
    "train, test = train_test_split(df, test_size=0.2, stratify=df.iloc[:,-1], random_state=random_state)"
   ]
  },
  {
   "cell_type": "markdown",
   "metadata": {},
   "source": [
    "<h2>Validação</h2>\n",
    "\n",
    "Para validação de nosso algoritmo AdaBoost, vamos utilizar o método Cross Validation com 10-folds. Este método permite avaliar a capacidade de generalização de nosso modelo preditivo.\n",
    "\n",
    "Também vamos iterar entre um intervalo para avaliar a performance de nosso algoritmo ao incrementarmos a quantidade de classificadores.\n",
    "\n",
    "Para tal, usaremos como classificador uma Decision Stump."
   ]
  },
  {
   "cell_type": "code",
   "execution_count": 5,
   "metadata": {},
   "outputs": [],
   "source": [
    "from sklearn.tree             import DecisionTreeClassifier\n",
    "from sklearn.metrics          import accuracy_score\n",
    "\n",
    "n_folds = 10\n",
    "n_clfs = 40\n",
    "\n",
    "clfs = []\n",
    "\n",
    "accuracy = []\n",
    "\n",
    "max_idx_accur = 0\n",
    "\n",
    "#armazena o melhor modelo do treinamento\n",
    "best_model = None\n",
    "\n",
    "for i in range(1,n_clfs + 1, 1):\n",
    "    clfs.append(DecisionTreeClassifier(criterion='entropy', max_depth=1))\n",
    "\n",
    "    kf = StratifiedKFold(n_splits=n_folds, shuffle=True, random_state=random_state)\n",
    "    \n",
    "    boosting = Adaboost(clfs.copy())\n",
    "    \n",
    "    acc_cv = []\n",
    "    \n",
    "    #Cross-validation\n",
    "    for train_idx, test_idx in kf.split(train, train.iloc[:, -1]):\n",
    "        \n",
    "        X_train, y_train = df.iloc[train_idx, :-1], df.iloc[train_idx, -1]\n",
    "        X_test , y_test  = df.iloc[test_idx , :-1], df.iloc[test_idx, -1]\n",
    "    \n",
    "        pred = boosting.fit(X_train, y_train)\n",
    "        \n",
    "        pred_test = boosting.predict(X_test)\n",
    "        \n",
    "        acc_cv.append(accuracy_score(y_test, pred_test))\n",
    "    \n",
    "    if len(accuracy) == 0 or np.mean(acc_cv) > max(accuracy):\n",
    "        max_idx_accur = i\n",
    "        best_model = boosting\n",
    "    \n",
    "    accuracy.append(np.mean(acc_cv))"
   ]
  },
  {
   "cell_type": "markdown",
   "metadata": {},
   "source": [
    "E como nosso modelo se saiu no treinamento?"
   ]
  },
  {
   "cell_type": "code",
   "execution_count": 6,
   "metadata": {},
   "outputs": [
    {
     "data": {
      "text/plain": [
       "<matplotlib.lines.Line2D at 0x1d60840d5f8>"
      ]
     },
     "execution_count": 6,
     "metadata": {},
     "output_type": "execute_result"
    },
    {
     "data": {
      "image/png": "[encoded data removed]",
      "text/plain": [
       "<matplotlib.figure.Figure at 0x1d6068dfcc0>"
      ]
     },
     "metadata": {
      "needs_background": "light"
     },
     "output_type": "display_data"
    }
   ],
   "source": [
    "import matplotlib.pyplot as plt\n",
    "\n",
    "%matplotlib inline\n",
    "\n",
    "fig = plt.figure(figsize=(8, 8)) \n",
    "ax  = fig.add_subplot(111)\n",
    "\n",
    "ax.set_title('Performance on trainning with 10-fold validation')\n",
    "ax.plot(range(1, len(accuracy) + 1), accuracy, '-b')\n",
    "ax.set_xlabel('Number of estimators')\n",
    "ax.set_xticks(np.arange(1, len(accuracy) +1, len(accuracy) / 10))\n",
    "ax.set_yticks(np.arange(min(accuracy), max(accuracy), 0.025))\n",
    "ax.set_ylabel('Accuracy')\n",
    "plt.axhline(max(accuracy), linestyle='--', color='red', linewidth=1)\n",
    "plt.axvline(max_idx_accur, linestyle='--', color='red', linewidth=1)"
   ]
  },
  {
   "cell_type": "markdown",
   "metadata": {},
   "source": [
    "Podemos verificar que há um acréscimo na performance conforme aumentamos a quantidade de Decision Stumps. O melhor modelo encontrado em um intervalo de 1 a 40 classificadores foi:"
   ]
  },
  {
   "cell_type": "code",
   "execution_count": 7,
   "metadata": {},
   "outputs": [
    {
     "data": {
      "text/plain": [
       "'Acurácia no treinamento 0.7899754901960785, com 33 classificadores.'"
      ]
     },
     "execution_count": 7,
     "metadata": {},
     "output_type": "execute_result"
    }
   ],
   "source": [
    "\"Acurácia no treinamento {}, com {} classificadores.\".format(max(accuracy), max_idx_accur)"
   ]
  },
  {
   "cell_type": "markdown",
   "metadata": {},
   "source": [
    "<h2>Aplicando sobre os dados de teste</h2>\n",
    "\n",
    "Agora vamos aplicar nosso melhor modelo (33 classificadores) sobre os dados de teste que separamos anteriormente (20% do dataset).\n",
    "\n",
    "Mas antes vamos criar nossas próprias funções de cálculo de <i>recall</i>, <i>precision</i> e <i>f1-score</i>:"
   ]
  },
  {
   "cell_type": "code",
   "execution_count": 8,
   "metadata": {},
   "outputs": [],
   "source": [
    "def calc_recall_score(true_y, pred_y, pos_label):\n",
    "    tp = 0.\n",
    "    fn = 0.\n",
    "    \n",
    "    for ty, py in zip(true_y, pred_y):\n",
    "        if ty == pos_label and ty == py:\n",
    "            tp += 1\n",
    "        elif ty == pos_label and ty != py:\n",
    "            fn += 1\n",
    "            \n",
    "    return tp / (tp + fn)\n",
    "    \n",
    "def calc_precision_score(true_y, pred_y, pos_label):\n",
    "    tp = 0.\n",
    "    fp = 0.\n",
    "    \n",
    "    for ty, py in zip(true_y, pred_y):\n",
    "        if (ty == pos_label and ty == py):\n",
    "            tp += 1\n",
    "        elif (py == pos_label and ty != py):\n",
    "            fp += 1\n",
    "            \n",
    "    return tp / (tp + fp)\n",
    "\n",
    "def calc_f1_score(true_y, pred_y, pos_label):\n",
    "    precision = calc_precision_score(true_y, pred_y, pos_label)\n",
    "    recall = calc_recall_score(true_y, pred_y, pos_label)\n",
    "    \n",
    "    return 2* (precision*recall)/(precision+recall)"
   ]
  },
  {
   "cell_type": "markdown",
   "metadata": {},
   "source": [
    "Agora sim...Vamos aplicar nosso modelo sobre os dados de teste:"
   ]
  },
  {
   "cell_type": "code",
   "execution_count": 9,
   "metadata": {},
   "outputs": [
    {
     "name": "stdout",
     "output_type": "stream",
     "text": [
      "-------------------------------------------------\n",
      "Aplicando o melhor modelo sobre os dados de teste \n",
      "-------------------------------------------------\n",
      "> Classificadores:  33\n",
      "> Acurácia.......:  0.8333333333333334\n",
      "-------------------------------------------------\n",
      "> Classe M (1): \n",
      "\t> Recall:  0.7272727272727273  / Precision:  0.9411764705882353\n",
      "> Classe R (-1): \n",
      "\t> Recall:  0.95  / Precision:  0.76\n",
      "-------------------------------------------------\n",
      "F1 Score:  0.8205128205128205\n"
     ]
    }
   ],
   "source": [
    "test_X, test_y = test.iloc[:, :-1], test.iloc[:, -1]\n",
    "predicted = boosting.predict(test_X)\n",
    "\n",
    "accuracy_test = accuracy_score(test_y, predicted)\n",
    "\n",
    "rM = calc_recall_score(test_y, predicted, pos_label=1)\n",
    "rR = calc_recall_score(test_y, predicted, pos_label=-1)\n",
    "pM = calc_precision_score(test_y, predicted, pos_label=1)\n",
    "pR = calc_precision_score(test_y, predicted, pos_label=-1)\n",
    "\n",
    "print('-------------------------------------------------')\n",
    "print('Aplicando o melhor modelo sobre os dados de teste ')\n",
    "print('-------------------------------------------------')\n",
    "print('> Classificadores: ', len(best_model.T))\n",
    "print('> Acurácia.......: ', accuracy_test)\n",
    "print('-------------------------------------------------')\n",
    "print('> Classe M (1): ')\n",
    "print('\\t> Recall: ', rM, ' / Precision: ', pM)\n",
    "print('> Classe R (-1): ')\n",
    "print('\\t> Recall: ', rR, ' / Precision: ', pR)\n",
    "print('-------------------------------------------------')\n",
    "print('F1 Score: ', calc_f1_score(test_y, predicted, pos_label=1))"
   ]
  },
  {
   "cell_type": "markdown",
   "metadata": {},
   "source": [
    "<h2>Análise</h2>\n",
    "\n",
    "Verificamos que nosso modelo obteve uma acurácia superior a encontrada durante o treinamento.\n",
    "\n",
    "Entretanto, as diferenças entre Precision e Recall para a classe M preocupam. Pelo Recall em 0.72, podemos inferir que ocorreram muitos Falso Negativos, ou seja, muitas Minas foram classificadas como Rochas.\n",
    "\n",
    "A métrica Precision para a classe R acaba confirmando a afirmação anterior: 76% indica que ocorreram muitos Falso Positivos, ou seja, muitas Minas que foram classificadas como Rochas.\n",
    "\n",
    "Também trouxemos a métrica F1 Score, como forma de simplificar a avaliação do modelo. Com base nessa métrica, podemos verificar que, mesmo assim, obtemos um modelo razoável."
   ]
  },
  {
   "cell_type": "markdown",
   "metadata": {},
   "source": [
    "<h2>Comparando com outro modelo \"sem boosting\"</h2>\n",
    "\n",
    "Para finalizar, vamos comparar nosso AdaBoost com um modelo sem utilização de <i>boosting</i>, no caso um SVM.\n",
    "\n",
    "Para efeitos de comparação, manteremos a validação cruzada em 10-fols e a mesma amostra de treino e teste (80/20) utilizada no AdaBoost."
   ]
  },
  {
   "cell_type": "code",
   "execution_count": 10,
   "metadata": {},
   "outputs": [
    {
     "name": "stdout",
     "output_type": "stream",
     "text": [
      "-------------------------------------------------\n",
      "       Aplicando SVM os dados de teste \n",
      "-------------------------------------------------\n",
      "> Acurácia.......:  0.5476190476190477\n",
      "-------------------------------------------------\n",
      "> Classe M (1): \n",
      "\t> Recall:  0.13636363636363635  / Precision:  1.0\n",
      "> Classe R (-1): \n",
      "\t> Recall:  1.0  / Precision:  0.5128205128205128\n",
      "-------------------------------------------------\n",
      "F1 Score:  0.24000000000000002\n"
     ]
    }
   ],
   "source": [
    "from sklearn.svm import SVC\n",
    "\n",
    "model = SVC()\n",
    "\n",
    "kf = StratifiedKFold(n_splits=n_folds, shuffle=True, random_state=random_state)\n",
    "    \n",
    "#Cross-validation\n",
    "for train_idx, test_idx in kf.split(train, train.iloc[:, -1]):\n",
    "\n",
    "    X_train, y_train = df.iloc[train_idx, :-1], df.iloc[train_idx, -1]\n",
    "    X_test , y_test  = df.iloc[test_idx , :-1], df.iloc[test_idx, -1]\n",
    "\n",
    "    pred = model.fit(X_train, y_train)\n",
    "\n",
    "    pred_test = model.predict(X_test)\n",
    "    \n",
    "test_X, test_y = test.iloc[:, :-1], test.iloc[:, -1]\n",
    "predicted = model.predict(test_X)\n",
    "\n",
    "accuracy_test = accuracy_score(test_y, predicted)\n",
    "\n",
    "rM = calc_recall_score(test_y, predicted, pos_label=1)\n",
    "rR = calc_recall_score(test_y, predicted, pos_label=-1)\n",
    "pM = calc_precision_score(test_y, predicted, pos_label=1)\n",
    "pR = calc_precision_score(test_y, predicted, pos_label=-1)\n",
    "\n",
    "print('-------------------------------------------------')\n",
    "print('       Aplicando SVM os dados de teste ')\n",
    "print('-------------------------------------------------')\n",
    "print('> Acurácia.......: ', accuracy_test)\n",
    "print('-------------------------------------------------')\n",
    "print('> Classe M (1): ')\n",
    "print('\\t> Recall: ', rM, ' / Precision: ', pM)\n",
    "print('> Classe R (-1): ')\n",
    "print('\\t> Recall: ', rR, ' / Precision: ', pR)\n",
    "print('-------------------------------------------------')\n",
    "print('F1 Score: ', calc_f1_score(test_y, predicted, pos_label=1))"
   ]
  },
  {
   "cell_type": "markdown",
   "metadata": {},
   "source": [
    "<h2>Análise AdaBoost x SVM</h2>\n",
    "\n",
    "Podemos verificar que o AdaBoost obteve valores de acurácia e F1-Score superiores ao SVM, quando na sua configuração default (C=1, gamma='auto').\n",
    "\n",
    "Porém, quando ajustamos os parâmetros do SVM conseguimos obter uma performance ligeiramente superior ao AdaBoost:\n"
   ]
  },
  {
   "cell_type": "code",
   "execution_count": 11,
   "metadata": {},
   "outputs": [
    {
     "name": "stdout",
     "output_type": "stream",
     "text": [
      "-------------------------------------------------\n",
      "       Aplicando SVM os dados de teste \n",
      "-------------------------------------------------\n",
      "> Acurácia.......:  0.8571428571428571\n",
      "-------------------------------------------------\n",
      "> Classe M (1): \n",
      "\t> Recall:  0.7272727272727273  / Precision:  1.0\n",
      "> Classe R (-1): \n",
      "\t> Recall:  1.0  / Precision:  0.7692307692307693\n",
      "-------------------------------------------------\n",
      "F1 Score:  0.8421052631578948\n"
     ]
    }
   ],
   "source": [
    "model = SVC(C=50, gamma=0.1)\n",
    "\n",
    "#Cross-validation\n",
    "for train_idx, test_idx in kf.split(train, train.iloc[:, -1]):\n",
    "\n",
    "    X_train, y_train = df.iloc[train_idx, :-1], df.iloc[train_idx, -1]\n",
    "    X_test , y_test  = df.iloc[test_idx , :-1], df.iloc[test_idx, -1]\n",
    "\n",
    "    pred = model.fit(X_train, y_train)\n",
    "\n",
    "    pred_test = model.predict(X_test)\n",
    "    \n",
    "test_X, test_y = test.iloc[:, :-1], test.iloc[:, -1]\n",
    "predicted = model.predict(test_X)\n",
    "\n",
    "accuracy_test = accuracy_score(test_y, predicted)\n",
    "\n",
    "rM = calc_recall_score(test_y, predicted, pos_label=1)\n",
    "rR = calc_recall_score(test_y, predicted, pos_label=-1)\n",
    "pM = calc_precision_score(test_y, predicted, pos_label=1)\n",
    "pR = calc_precision_score(test_y, predicted, pos_label=-1)\n",
    "\n",
    "print('-------------------------------------------------')\n",
    "print('       Aplicando SVM os dados de teste ')\n",
    "print('-------------------------------------------------')\n",
    "print('> Acurácia.......: ', accuracy_test)\n",
    "print('-------------------------------------------------')\n",
    "print('> Classe M (1): ')\n",
    "print('\\t> Recall: ', rM, ' / Precision: ', pM)\n",
    "print('> Classe R (-1): ')\n",
    "print('\\t> Recall: ', rR, ' / Precision: ', pR)\n",
    "print('-------------------------------------------------')\n",
    "print('F1 Score: ', calc_f1_score(test_y, predicted, pos_label=1))"
   ]
  }
 ],
 "metadata": {
  "kernelspec": {
   "display_name": "Python 3",
   "language": "python",
   "name": "python3"
  },
  "language_info": {
   "codemirror_mode": {
    "name": "ipython",
    "version": 3
   },
   "file_extension": ".py",
   "mimetype": "text/x-python",
   "name": "python",
   "nbconvert_exporter": "python",
   "pygments_lexer": "ipython3",
   "version": "3.6.4"
  }
 },
 "nbformat": 4,
 "nbformat_minor": 2
}
